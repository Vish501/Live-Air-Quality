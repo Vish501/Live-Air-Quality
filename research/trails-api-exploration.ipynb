{
 "cells": [
  {
   "cell_type": "markdown",
   "id": "122b814e",
   "metadata": {},
   "source": [
    "# Environment Setting Up"
   ]
  },
  {
   "cell_type": "code",
   "execution_count": 1,
   "id": "d16cd0f7",
   "metadata": {},
   "outputs": [
    {
     "data": {
      "text/plain": [
       "'/workspaces/Live-Air-Quality'"
      ]
     },
     "execution_count": 1,
     "metadata": {},
     "output_type": "execute_result"
    }
   ],
   "source": [
    "import os\n",
    "from dotenv import load_dotenv\n",
    "\n",
    "# Loading environment variables from .env\n",
    "load_dotenv()\n",
    "\n",
    "# Changing directory to main directory for easy data access\n",
    "working_directory = os.getenv(\"WORKING_DIRECTORY\")\n",
    "os.chdir(working_directory)\n",
    "\n",
    "# Checking the change\n",
    "%pwd"
   ]
  },
  {
   "cell_type": "code",
   "execution_count": 2,
   "id": "401afed5",
   "metadata": {},
   "outputs": [
    {
     "name": "stdout",
     "output_type": "stream",
     "text": [
      "Git folder exists: True\n"
     ]
    }
   ],
   "source": [
    "from pathlib import Path\n",
    "\n",
    "# Checking the change\n",
    "print(\"Git folder exists:\", Path(\".git\").exists())"
   ]
  },
  {
   "cell_type": "markdown",
   "id": "5b745737",
   "metadata": {},
   "source": [
    "# 1. API Exploration"
   ]
  },
  {
   "cell_type": "code",
   "execution_count": 3,
   "id": "d55dc8c3",
   "metadata": {},
   "outputs": [],
   "source": [
    "from AQI.utils.logger import get_logger\n",
    "\n",
    "# Initializing the logger to test for exploration purposes\n",
    "logger = get_logger(\"test\")"
   ]
  },
  {
   "cell_type": "code",
   "execution_count": 4,
   "id": "5272fe72",
   "metadata": {},
   "outputs": [],
   "source": [
    "import os\n",
    "from openaq import OpenAQ\n",
    "from dotenv import load_dotenv\n",
    "\n",
    "# Load environment variables from .env file\n",
    "load_dotenv()\n",
    "\n",
    "def setup_openaq(secret_env_var: str = \"OPENAQI_API_KEY\") -> OpenAQ:\n",
    "    \"\"\"\n",
    "    Load the OpenAQ API key from environment and return an authenticated OpenAQ client.\n",
    "\n",
    "    Args:\n",
    "        secret_env_var (str): Name of the environment variable holding the API key.\n",
    "\n",
    "    Returns:\n",
    "        OpenAQ: An authenticated OpenAQ client object.\n",
    "\n",
    "    Raises:\n",
    "        ValueError: If the API key is not found in the environment.\n",
    "        Exception: If client creation fails for any other reason.\n",
    "    \"\"\"\n",
    "    # Read API key from environment\n",
    "    openaq_api = os.getenv(secret_env_var)\n",
    "\n",
    "    if openaq_api is None:\n",
    "        logger.error(\"Unable to find OpenAQ API key in environment.\")\n",
    "        raise ValueError(f\"{secret_env_var} not found or empty.\")\n",
    "    \n",
    "    try:\n",
    "        client = OpenAQ(api_key=openaq_api)\n",
    "        logger.info(f\"Successfully initialized OpenAQ client.\")\n",
    "        return client\n",
    "    \n",
    "    except Exception as e:\n",
    "        logger.error(f\"Unexpected error while creating OpenAQ client: {e}\")\n",
    "        raise e"
   ]
  },
  {
   "cell_type": "code",
   "execution_count": 45,
   "id": "a6f2e09f",
   "metadata": {},
   "outputs": [
    {
     "name": "stdout",
     "output_type": "stream",
     "text": [
      "[2025-08-11 12:56:51,437: INFO: 3860316096: Successfully initialized OpenAQ client.]\n"
     ]
    },
    {
     "data": {
      "text/plain": [
       "<openaq._sync.client.OpenAQ at 0x754cdd9b4800>"
      ]
     },
     "execution_count": 45,
     "metadata": {},
     "output_type": "execute_result"
    }
   ],
   "source": [
    "client = setup_openaq()\n",
    "client"
   ]
  },
  {
   "cell_type": "code",
   "execution_count": 16,
   "id": "6c8b9ca5",
   "metadata": {},
   "outputs": [
    {
     "name": "stdout",
     "output_type": "stream",
     "text": [
      "api_key\n",
      "base_url\n",
      "build_request_headers\n",
      "close\n",
      "countries\n",
      "headers\n",
      "instruments\n",
      "licenses\n",
      "locations\n",
      "manufacturers\n",
      "measurements\n",
      "owners\n",
      "parameters\n",
      "providers\n",
      "resolve_headers\n",
      "sensors\n",
      "transport\n"
     ]
    }
   ],
   "source": [
    "for attr in dir(client):\n",
    "    if not attr.startswith(\"_\") and not attr.endswith(\"_\"):\n",
    "        print(attr)"
   ]
  },
  {
   "cell_type": "code",
   "execution_count": 63,
   "id": "9d0aca19",
   "metadata": {},
   "outputs": [
    {
     "data": {
      "text/plain": [
       "Meta(name='openaq-api', website='/', page=1, limit=100, found=52)"
      ]
     },
     "execution_count": 63,
     "metadata": {},
     "output_type": "execute_result"
    }
   ],
   "source": [
    "# Finding stations around NYC\n",
    "\n",
    "data = client.locations.list(\n",
    "    bbox=[-74.25909, 40.477399, -73.700181, 40.917577],\n",
    "    limit=100\n",
    "    )\n",
    "    \n",
    "# Check if query works\n",
    "data.meta"
   ]
  },
  {
   "cell_type": "code",
   "execution_count": 64,
   "id": "e92db32d",
   "metadata": {},
   "outputs": [
    {
     "data": {
      "text/plain": [
       "'openaq-api'"
      ]
     },
     "execution_count": 64,
     "metadata": {},
     "output_type": "execute_result"
    }
   ],
   "source": [
    "data.meta.name"
   ]
  },
  {
   "cell_type": "code",
   "execution_count": 65,
   "id": "8bcaf974",
   "metadata": {},
   "outputs": [
    {
     "data": {
      "text/plain": [
       "52"
      ]
     },
     "execution_count": 65,
     "metadata": {},
     "output_type": "execute_result"
    }
   ],
   "source": [
    "len(data.results)"
   ]
  },
  {
   "cell_type": "code",
   "execution_count": 77,
   "id": "c72265af",
   "metadata": {},
   "outputs": [
    {
     "data": {
      "text/plain": [
       "{'id': 384,\n",
       " 'name': 'CCNY',\n",
       " 'locality': 'New York-Northern New Jersey-Long Island',\n",
       " 'timezone': 'America/New_York',\n",
       " 'country': CountryBase(id=155, code='US', name='United States'),\n",
       " 'owner': OwnerBase(id=4, name='Unknown Governmental Organization'),\n",
       " 'provider': ProviderBase(id=119, name='AirNow'),\n",
       " 'is_mobile': False,\n",
       " 'is_monitor': True,\n",
       " 'instruments': [InstrumentBase(id=2, name='Government Monitor')],\n",
       " 'sensors': [SensorBase(id=671, name='o3 ppm', parameter=ParameterBase(id=10, name='o3', units='ppm', display_name='O₃')),\n",
       "  SensorBase(id=673, name='pm25 µg/m³', parameter=ParameterBase(id=2, name='pm25', units='µg/m³', display_name='PM2.5'))],\n",
       " 'coordinates': Coordinates(latitude=40.8197, longitude=-73.9481),\n",
       " 'bounds': [-73.9481, 40.8197, -73.9481, 40.8197],\n",
       " 'distance': None,\n",
       " 'datetime_first': Datetime(utc='2016-03-12T09:00:00Z', local='2016-03-12T04:00:00-05:00'),\n",
       " 'datetime_last': Datetime(utc='2025-08-11T12:00:00Z', local='2025-08-11T08:00:00-04:00')}"
      ]
     },
     "execution_count": 77,
     "metadata": {},
     "output_type": "execute_result"
    }
   ],
   "source": [
    "data.results[0].__dict__"
   ]
  },
  {
   "cell_type": "code",
   "execution_count": 73,
   "id": "9fd8ca91",
   "metadata": {},
   "outputs": [],
   "source": [
    "loc_info = {}\n",
    "for location in data.results:\n",
    "    loc_info[location.id] = location.name\n",
    "\n",
    "assert len(data.results) == len(loc_info)"
   ]
  },
  {
   "cell_type": "code",
   "execution_count": 76,
   "id": "46b7ecdf",
   "metadata": {},
   "outputs": [
    {
     "data": {
      "text/plain": [
       "{384: 'CCNY',\n",
       " 386: 'Susan Wagner',\n",
       " 625: 'Manhattan/IS143',\n",
       " 626: 'Bronx - IS52',\n",
       " 628: 'Maspeth',\n",
       " 631: 'Queens',\n",
       " 642: 'PS 19',\n",
       " 648: 'Bklyn - PS 314',\n",
       " 662: 'Division Street',\n",
       " 664: 'Bklyn - PS274',\n",
       " 665: 'Bronx - IS74',\n",
       " 666: 'Pfizer Lab',\n",
       " 853: 'East Orange',\n",
       " 857: 'Fort Lee Near Road',\n",
       " 928: 'Jersey City FH',\n",
       " 971: 'Elizabeth Trailer',\n",
       " 974: 'Newark Firehouse',\n",
       " 984: 'Leonia',\n",
       " 1122: 'Jersey City',\n",
       " 1496: 'Bayonne',\n",
       " 2193: 'Elizabeth',\n",
       " 8749: 'Queens Near-road',\n",
       " 292229: 'Morrisania',\n",
       " 387315: 'Union City High Scho',\n",
       " 496096: 'Port Richmond',\n",
       " 1236043: 'Franklin Avenue',\n",
       " 1738519: 'Bayside, NY',\n",
       " 1775647: 'State Dept of Environmental Conservation',\n",
       " 1824516: 'Bayside, NY',\n",
       " 2153518: 'Jersey City Heights',\n",
       " 2386747: 'Carteret, NJ',\n",
       " 2453305: 'State Dept of Environmental Conservation',\n",
       " 2453313: 'State Dept of Environmental Conservation',\n",
       " 2616564: '7th Ave and W 16th St',\n",
       " 2903996: 'Win Son',\n",
       " 3041962: 'Near Bay 50 St',\n",
       " 3103622: 'Montclair, NJ',\n",
       " 3145067: 'Metal fence on PS9 back campus [NYC Testbed Pilot]',\n",
       " 3145068: '56th St & Flushing [NYC Testbed Pilot]',\n",
       " 3145069: 'Closest to SA unit on PS9 campus',\n",
       " 3145070: ' 57th St/Front of School [NYC Testbed Pilot]',\n",
       " 3145072: '54th St & Flushing [NYC Testbed Pilot]',\n",
       " 3145073: '56th St & Grand Ave [NYC Testbed Pilot]',\n",
       " 3145074: ' 54th St & Grand Ave [NYC Testbed Pilot]',\n",
       " 3181018: 'Hillcrest, NY',\n",
       " 3305066: 'Downtown Montclair',\n",
       " 3400913: 'DropHome',\n",
       " 3406357: 'Bayside, NY 11361',\n",
       " 4419380: 'NJBAM Test Weehawken',\n",
       " 4727343: 'E Houston St between Clinton St & Attorney St',\n",
       " 5066205: 'Hamilton Park, Jersey City',\n",
       " 5238263: 'Jersey City Newport '}"
      ]
     },
     "execution_count": 76,
     "metadata": {},
     "output_type": "execute_result"
    }
   ],
   "source": [
    "loc_info"
   ]
  },
  {
   "cell_type": "code",
   "execution_count": 81,
   "id": "61bfe5a6",
   "metadata": {},
   "outputs": [
    {
     "name": "stdout",
     "output_type": "stream",
     "text": [
      "[2025-08-11 13:22:09,381: INFO: common: Directory: artifacts/data created successfully.]\n",
      "[2025-08-11 13:22:09,383: INFO: common: Directory: artifacts/data created successfully.]\n",
      "[2025-08-11 13:22:09,385: INFO: common: JSON file saved at: artifacts/data/sensor_locations.json]\n"
     ]
    }
   ],
   "source": [
    "from AQI.utils.common import create_directories, save_json\n",
    "\n",
    "create_directories([\"artifacts/data\"])\n",
    "save_json(save_path=Path(\"artifacts/data/sensor_locations.json\"), data=loc_info)\n"
   ]
  },
  {
   "cell_type": "code",
   "execution_count": null,
   "id": "9db3c777",
   "metadata": {},
   "outputs": [],
   "source": []
  }
 ],
 "metadata": {
  "kernelspec": {
   "display_name": "Python 3",
   "language": "python",
   "name": "python3"
  },
  "language_info": {
   "codemirror_mode": {
    "name": "ipython",
    "version": 3
   },
   "file_extension": ".py",
   "mimetype": "text/x-python",
   "name": "python",
   "nbconvert_exporter": "python",
   "pygments_lexer": "ipython3",
   "version": "3.12.1"
  }
 },
 "nbformat": 4,
 "nbformat_minor": 5
}
