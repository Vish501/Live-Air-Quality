{
 "cells": [
  {
   "cell_type": "markdown",
   "id": "9699205a",
   "metadata": {},
   "source": [
    "# Environment Setting Up"
   ]
  },
  {
   "cell_type": "code",
   "execution_count": 1,
   "id": "c4714ea2",
   "metadata": {},
   "outputs": [
    {
     "data": {
      "text/plain": [
       "'/workspaces/Live-Air-Quality'"
      ]
     },
     "execution_count": 1,
     "metadata": {},
     "output_type": "execute_result"
    }
   ],
   "source": [
    "import os\n",
    "from dotenv import load_dotenv\n",
    "\n",
    "# Loading environment variables from .env\n",
    "load_dotenv()\n",
    "\n",
    "# Changing directory to main directory for easy data access\n",
    "working_directory = os.getenv(\"WORKING_DIRECTORY\")\n",
    "os.chdir(working_directory)\n",
    "\n",
    "# Checking the change\n",
    "%pwd"
   ]
  },
  {
   "cell_type": "code",
   "execution_count": 2,
   "id": "33ec263b",
   "metadata": {},
   "outputs": [
    {
     "name": "stdout",
     "output_type": "stream",
     "text": [
      "Git folder exists: True\n"
     ]
    }
   ],
   "source": [
    "from pathlib import Path\n",
    "\n",
    "# Checking the change\n",
    "print(\"Git folder exists:\", Path(\".git\").exists())"
   ]
  },
  {
   "cell_type": "markdown",
   "id": "42ab2bce",
   "metadata": {},
   "source": [
    "# 3. Data Check"
   ]
  },
  {
   "cell_type": "code",
   "execution_count": 7,
   "id": "9ce44b3d",
   "metadata": {},
   "outputs": [
    {
     "data": {
      "text/plain": [
       "<duckdb.duckdb.DuckDBPyConnection at 0x76e624b34570>"
      ]
     },
     "execution_count": 7,
     "metadata": {},
     "output_type": "execute_result"
    }
   ],
   "source": [
    "import duckdb as ddb\n",
    "import pandas as pd\n",
    "from pathlib import Path\n",
    "\n",
    "location = Path(\"research/sql/air_quality.db\")\n",
    "con = ddb.connect(location)\n",
    "\n",
    "con"
   ]
  },
  {
   "cell_type": "code",
   "execution_count": 11,
   "id": "0ca55fc9",
   "metadata": {},
   "outputs": [
    {
     "name": "stdout",
     "output_type": "stream",
     "text": [
      "(719, 12)\n"
     ]
    },
    {
     "data": {
      "text/html": [
       "<div>\n",
       "<style scoped>\n",
       "    .dataframe tbody tr th:only-of-type {\n",
       "        vertical-align: middle;\n",
       "    }\n",
       "\n",
       "    .dataframe tbody tr th {\n",
       "        vertical-align: top;\n",
       "    }\n",
       "\n",
       "    .dataframe thead th {\n",
       "        text-align: right;\n",
       "    }\n",
       "</style>\n",
       "<table border=\"1\" class=\"dataframe\">\n",
       "  <thead>\n",
       "    <tr style=\"text-align: right;\">\n",
       "      <th></th>\n",
       "      <th>location_id</th>\n",
       "      <th>sensors_id</th>\n",
       "      <th>location</th>\n",
       "      <th>datetime</th>\n",
       "      <th>lat</th>\n",
       "      <th>lon</th>\n",
       "      <th>parameter</th>\n",
       "      <th>units</th>\n",
       "      <th>value</th>\n",
       "      <th>month</th>\n",
       "      <th>year</th>\n",
       "      <th>ingestion_datetime</th>\n",
       "    </tr>\n",
       "  </thead>\n",
       "  <tbody>\n",
       "    <tr>\n",
       "      <th>0</th>\n",
       "      <td>384</td>\n",
       "      <td>673</td>\n",
       "      <td>CCNY-384</td>\n",
       "      <td>2025-06-01 05:00:00</td>\n",
       "      <td>40.8197</td>\n",
       "      <td>-73.9481</td>\n",
       "      <td>pm25</td>\n",
       "      <td>µg/m³</td>\n",
       "      <td>3.9</td>\n",
       "      <td>06</td>\n",
       "      <td>2025</td>\n",
       "      <td>2025-08-13 13:59:25.126</td>\n",
       "    </tr>\n",
       "    <tr>\n",
       "      <th>1</th>\n",
       "      <td>384</td>\n",
       "      <td>673</td>\n",
       "      <td>CCNY-384</td>\n",
       "      <td>2025-06-01 06:00:00</td>\n",
       "      <td>40.8197</td>\n",
       "      <td>-73.9481</td>\n",
       "      <td>pm25</td>\n",
       "      <td>µg/m³</td>\n",
       "      <td>3.9</td>\n",
       "      <td>06</td>\n",
       "      <td>2025</td>\n",
       "      <td>2025-08-13 13:59:25.126</td>\n",
       "    </tr>\n",
       "  </tbody>\n",
       "</table>\n",
       "</div>"
      ],
      "text/plain": [
       "   location_id  sensors_id  location            datetime      lat      lon  \\\n",
       "0          384         673  CCNY-384 2025-06-01 05:00:00  40.8197 -73.9481   \n",
       "1          384         673  CCNY-384 2025-06-01 06:00:00  40.8197 -73.9481   \n",
       "\n",
       "  parameter  units  value month  year      ingestion_datetime  \n",
       "0      pm25  µg/m³    3.9    06  2025 2025-08-13 13:59:25.126  \n",
       "1      pm25  µg/m³    3.9    06  2025 2025-08-13 13:59:25.126  "
      ]
     },
     "execution_count": 11,
     "metadata": {},
     "output_type": "execute_result"
    }
   ],
   "source": [
    "table_address = \"raw.air_quality_data\"\n",
    "data = con.query(f\"\"\"\n",
    "                 SELECT *\n",
    "                 FROM {table_address}\n",
    "                 WHERE parameter in ('so2', 'pm10', 'pm25')\n",
    "                 \"\"\").to_df()\n",
    "\n",
    "print(data.shape)\n",
    "data.head(2)"
   ]
  },
  {
   "cell_type": "code",
   "execution_count": 13,
   "id": "d0b18220",
   "metadata": {},
   "outputs": [
    {
     "name": "stdout",
     "output_type": "stream",
     "text": [
      "<class 'pandas.core.frame.DataFrame'>\n",
      "RangeIndex: 719 entries, 0 to 718\n",
      "Data columns (total 12 columns):\n",
      " #   Column              Non-Null Count  Dtype         \n",
      "---  ------              --------------  -----         \n",
      " 0   location_id         719 non-null    int64         \n",
      " 1   sensors_id          719 non-null    int64         \n",
      " 2   location            719 non-null    object        \n",
      " 3   datetime            719 non-null    datetime64[us]\n",
      " 4   lat                 719 non-null    float64       \n",
      " 5   lon                 719 non-null    float64       \n",
      " 6   parameter           719 non-null    object        \n",
      " 7   units               719 non-null    object        \n",
      " 8   value               719 non-null    float64       \n",
      " 9   month               719 non-null    object        \n",
      " 10  year                719 non-null    int64         \n",
      " 11  ingestion_datetime  719 non-null    datetime64[us]\n",
      "dtypes: datetime64[us](2), float64(3), int64(3), object(4)\n",
      "memory usage: 67.5+ KB\n"
     ]
    }
   ],
   "source": [
    "data.info(verbose=True)"
   ]
  },
  {
   "cell_type": "code",
   "execution_count": null,
   "id": "fca303fc",
   "metadata": {},
   "outputs": [
    {
     "name": "stdout",
     "output_type": "stream",
     "text": [
      "location_id           0\n",
      "sensors_id            0\n",
      "location              0\n",
      "datetime              0\n",
      "lat                   0\n",
      "lon                   0\n",
      "parameter             0\n",
      "units                 0\n",
      "value                 0\n",
      "month                 0\n",
      "year                  0\n",
      "ingestion_datetime    0\n",
      "dtype: int64 \n",
      "\n",
      "location_id           0.0\n",
      "sensors_id            0.0\n",
      "location              0.0\n",
      "datetime              0.0\n",
      "lat                   0.0\n",
      "lon                   0.0\n",
      "parameter             0.0\n",
      "units                 0.0\n",
      "value                 0.0\n",
      "month                 0.0\n",
      "year                  0.0\n",
      "ingestion_datetime    0.0\n",
      "dtype: float64\n"
     ]
    }
   ],
   "source": [
    "# Missing Data\n",
    "missing_data = data.isnull().sum()\n",
    "missing_data_percentage = (missing_data / len(data)) * 100\n",
    "\n",
    "print(missing_data, '\\n')\n",
    "print(missing_data_percentage)"
   ]
  },
  {
   "cell_type": "code",
   "execution_count": 16,
   "id": "b9c7bb97",
   "metadata": {},
   "outputs": [
    {
     "data": {
      "text/html": [
       "<div>\n",
       "<style scoped>\n",
       "    .dataframe tbody tr th:only-of-type {\n",
       "        vertical-align: middle;\n",
       "    }\n",
       "\n",
       "    .dataframe tbody tr th {\n",
       "        vertical-align: top;\n",
       "    }\n",
       "\n",
       "    .dataframe thead th {\n",
       "        text-align: right;\n",
       "    }\n",
       "</style>\n",
       "<table border=\"1\" class=\"dataframe\">\n",
       "  <thead>\n",
       "    <tr style=\"text-align: right;\">\n",
       "      <th></th>\n",
       "      <th>location_id</th>\n",
       "      <th>sensors_id</th>\n",
       "      <th>datetime</th>\n",
       "      <th>lat</th>\n",
       "      <th>lon</th>\n",
       "      <th>value</th>\n",
       "      <th>year</th>\n",
       "      <th>ingestion_datetime</th>\n",
       "    </tr>\n",
       "  </thead>\n",
       "  <tbody>\n",
       "    <tr>\n",
       "      <th>count</th>\n",
       "      <td>719.0</td>\n",
       "      <td>719.0</td>\n",
       "      <td>719</td>\n",
       "      <td>7.190000e+02</td>\n",
       "      <td>7.190000e+02</td>\n",
       "      <td>719.000000</td>\n",
       "      <td>719.0</td>\n",
       "      <td>719</td>\n",
       "    </tr>\n",
       "    <tr>\n",
       "      <th>mean</th>\n",
       "      <td>384.0</td>\n",
       "      <td>673.0</td>\n",
       "      <td>2025-06-16 04:55:04.589708</td>\n",
       "      <td>4.081970e+01</td>\n",
       "      <td>-7.394810e+01</td>\n",
       "      <td>11.146871</td>\n",
       "      <td>2025.0</td>\n",
       "      <td>2025-08-13 13:59:25.126000</td>\n",
       "    </tr>\n",
       "    <tr>\n",
       "      <th>min</th>\n",
       "      <td>384.0</td>\n",
       "      <td>673.0</td>\n",
       "      <td>2025-06-01 05:00:00</td>\n",
       "      <td>4.081970e+01</td>\n",
       "      <td>-7.394810e+01</td>\n",
       "      <td>2.100000</td>\n",
       "      <td>2025.0</td>\n",
       "      <td>2025-08-13 13:59:25.126000</td>\n",
       "    </tr>\n",
       "    <tr>\n",
       "      <th>25%</th>\n",
       "      <td>384.0</td>\n",
       "      <td>673.0</td>\n",
       "      <td>2025-06-08 17:30:00</td>\n",
       "      <td>4.081970e+01</td>\n",
       "      <td>-7.394810e+01</td>\n",
       "      <td>6.700000</td>\n",
       "      <td>2025.0</td>\n",
       "      <td>2025-08-13 13:59:25.126000</td>\n",
       "    </tr>\n",
       "    <tr>\n",
       "      <th>50%</th>\n",
       "      <td>384.0</td>\n",
       "      <td>673.0</td>\n",
       "      <td>2025-06-16 05:00:00</td>\n",
       "      <td>4.081970e+01</td>\n",
       "      <td>-7.394810e+01</td>\n",
       "      <td>10.200000</td>\n",
       "      <td>2025.0</td>\n",
       "      <td>2025-08-13 13:59:25.126000</td>\n",
       "    </tr>\n",
       "    <tr>\n",
       "      <th>75%</th>\n",
       "      <td>384.0</td>\n",
       "      <td>673.0</td>\n",
       "      <td>2025-06-23 16:30:00</td>\n",
       "      <td>4.081970e+01</td>\n",
       "      <td>-7.394810e+01</td>\n",
       "      <td>14.100000</td>\n",
       "      <td>2025.0</td>\n",
       "      <td>2025-08-13 13:59:25.126000</td>\n",
       "    </tr>\n",
       "    <tr>\n",
       "      <th>max</th>\n",
       "      <td>384.0</td>\n",
       "      <td>673.0</td>\n",
       "      <td>2025-07-01 04:00:00</td>\n",
       "      <td>4.081970e+01</td>\n",
       "      <td>-7.394810e+01</td>\n",
       "      <td>38.900000</td>\n",
       "      <td>2025.0</td>\n",
       "      <td>2025-08-13 13:59:25.126000</td>\n",
       "    </tr>\n",
       "    <tr>\n",
       "      <th>std</th>\n",
       "      <td>0.0</td>\n",
       "      <td>0.0</td>\n",
       "      <td>NaN</td>\n",
       "      <td>7.110374e-15</td>\n",
       "      <td>1.422075e-14</td>\n",
       "      <td>5.758563</td>\n",
       "      <td>0.0</td>\n",
       "      <td>NaN</td>\n",
       "    </tr>\n",
       "  </tbody>\n",
       "</table>\n",
       "</div>"
      ],
      "text/plain": [
       "       location_id  sensors_id                    datetime           lat  \\\n",
       "count        719.0       719.0                         719  7.190000e+02   \n",
       "mean         384.0       673.0  2025-06-16 04:55:04.589708  4.081970e+01   \n",
       "min          384.0       673.0         2025-06-01 05:00:00  4.081970e+01   \n",
       "25%          384.0       673.0         2025-06-08 17:30:00  4.081970e+01   \n",
       "50%          384.0       673.0         2025-06-16 05:00:00  4.081970e+01   \n",
       "75%          384.0       673.0         2025-06-23 16:30:00  4.081970e+01   \n",
       "max          384.0       673.0         2025-07-01 04:00:00  4.081970e+01   \n",
       "std            0.0         0.0                         NaN  7.110374e-15   \n",
       "\n",
       "                lon       value    year          ingestion_datetime  \n",
       "count  7.190000e+02  719.000000   719.0                         719  \n",
       "mean  -7.394810e+01   11.146871  2025.0  2025-08-13 13:59:25.126000  \n",
       "min   -7.394810e+01    2.100000  2025.0  2025-08-13 13:59:25.126000  \n",
       "25%   -7.394810e+01    6.700000  2025.0  2025-08-13 13:59:25.126000  \n",
       "50%   -7.394810e+01   10.200000  2025.0  2025-08-13 13:59:25.126000  \n",
       "75%   -7.394810e+01   14.100000  2025.0  2025-08-13 13:59:25.126000  \n",
       "max   -7.394810e+01   38.900000  2025.0  2025-08-13 13:59:25.126000  \n",
       "std    1.422075e-14    5.758563     0.0                         NaN  "
      ]
     },
     "execution_count": 16,
     "metadata": {},
     "output_type": "execute_result"
    }
   ],
   "source": [
    "data.describe()"
   ]
  },
  {
   "cell_type": "code",
   "execution_count": 17,
   "id": "00338590",
   "metadata": {},
   "outputs": [
    {
     "data": {
      "text/html": [
       "<div>\n",
       "<style scoped>\n",
       "    .dataframe tbody tr th:only-of-type {\n",
       "        vertical-align: middle;\n",
       "    }\n",
       "\n",
       "    .dataframe tbody tr th {\n",
       "        vertical-align: top;\n",
       "    }\n",
       "\n",
       "    .dataframe thead th {\n",
       "        text-align: right;\n",
       "    }\n",
       "</style>\n",
       "<table border=\"1\" class=\"dataframe\">\n",
       "  <thead>\n",
       "    <tr style=\"text-align: right;\">\n",
       "      <th></th>\n",
       "      <th>location</th>\n",
       "      <th>parameter</th>\n",
       "      <th>units</th>\n",
       "      <th>month</th>\n",
       "    </tr>\n",
       "  </thead>\n",
       "  <tbody>\n",
       "    <tr>\n",
       "      <th>count</th>\n",
       "      <td>719</td>\n",
       "      <td>719</td>\n",
       "      <td>719</td>\n",
       "      <td>719</td>\n",
       "    </tr>\n",
       "    <tr>\n",
       "      <th>unique</th>\n",
       "      <td>1</td>\n",
       "      <td>1</td>\n",
       "      <td>1</td>\n",
       "      <td>1</td>\n",
       "    </tr>\n",
       "    <tr>\n",
       "      <th>top</th>\n",
       "      <td>CCNY-384</td>\n",
       "      <td>pm25</td>\n",
       "      <td>µg/m³</td>\n",
       "      <td>06</td>\n",
       "    </tr>\n",
       "    <tr>\n",
       "      <th>freq</th>\n",
       "      <td>719</td>\n",
       "      <td>719</td>\n",
       "      <td>719</td>\n",
       "      <td>719</td>\n",
       "    </tr>\n",
       "  </tbody>\n",
       "</table>\n",
       "</div>"
      ],
      "text/plain": [
       "        location parameter  units month\n",
       "count        719       719    719   719\n",
       "unique         1         1      1     1\n",
       "top     CCNY-384      pm25  µg/m³    06\n",
       "freq         719       719    719   719"
      ]
     },
     "execution_count": 17,
     "metadata": {},
     "output_type": "execute_result"
    }
   ],
   "source": [
    "data.describe(include='O')"
   ]
  },
  {
   "cell_type": "code",
   "execution_count": 18,
   "id": "6022deda",
   "metadata": {},
   "outputs": [
    {
     "data": {
      "text/html": [
       "<div>\n",
       "<style scoped>\n",
       "    .dataframe tbody tr th:only-of-type {\n",
       "        vertical-align: middle;\n",
       "    }\n",
       "\n",
       "    .dataframe tbody tr th {\n",
       "        vertical-align: top;\n",
       "    }\n",
       "\n",
       "    .dataframe thead th {\n",
       "        text-align: right;\n",
       "    }\n",
       "</style>\n",
       "<table border=\"1\" class=\"dataframe\">\n",
       "  <thead>\n",
       "    <tr style=\"text-align: right;\">\n",
       "      <th></th>\n",
       "      <th>location_id</th>\n",
       "      <th>sensors_id</th>\n",
       "      <th>location</th>\n",
       "      <th>datetime</th>\n",
       "      <th>lat</th>\n",
       "      <th>lon</th>\n",
       "      <th>parameter</th>\n",
       "      <th>units</th>\n",
       "      <th>value</th>\n",
       "      <th>month</th>\n",
       "      <th>year</th>\n",
       "      <th>ingestion_datetime</th>\n",
       "    </tr>\n",
       "  </thead>\n",
       "  <tbody>\n",
       "  </tbody>\n",
       "</table>\n",
       "</div>"
      ],
      "text/plain": [
       "Empty DataFrame\n",
       "Columns: [location_id, sensors_id, location, datetime, lat, lon, parameter, units, value, month, year, ingestion_datetime]\n",
       "Index: []"
      ]
     },
     "execution_count": 18,
     "metadata": {},
     "output_type": "execute_result"
    }
   ],
   "source": [
    "data[data.duplicated(subset=[\"location_id\", \"parameter\", \"units\", \"value\", \"datetime\"])]"
   ]
  },
  {
   "cell_type": "code",
   "execution_count": 20,
   "id": "468dafe3",
   "metadata": {},
   "outputs": [
    {
     "data": {
      "text/html": [
       "<div>\n",
       "<style scoped>\n",
       "    .dataframe tbody tr th:only-of-type {\n",
       "        vertical-align: middle;\n",
       "    }\n",
       "\n",
       "    .dataframe tbody tr th {\n",
       "        vertical-align: top;\n",
       "    }\n",
       "\n",
       "    .dataframe thead th {\n",
       "        text-align: right;\n",
       "    }\n",
       "</style>\n",
       "<table border=\"1\" class=\"dataframe\">\n",
       "  <thead>\n",
       "    <tr style=\"text-align: right;\">\n",
       "      <th></th>\n",
       "      <th>location_id</th>\n",
       "      <th>sensors_id</th>\n",
       "      <th>location</th>\n",
       "      <th>datetime</th>\n",
       "      <th>lat</th>\n",
       "      <th>lon</th>\n",
       "      <th>units</th>\n",
       "      <th>value</th>\n",
       "      <th>month</th>\n",
       "      <th>year</th>\n",
       "      <th>ingestion_datetime</th>\n",
       "    </tr>\n",
       "    <tr>\n",
       "      <th>parameter</th>\n",
       "      <th></th>\n",
       "      <th></th>\n",
       "      <th></th>\n",
       "      <th></th>\n",
       "      <th></th>\n",
       "      <th></th>\n",
       "      <th></th>\n",
       "      <th></th>\n",
       "      <th></th>\n",
       "      <th></th>\n",
       "      <th></th>\n",
       "    </tr>\n",
       "  </thead>\n",
       "  <tbody>\n",
       "    <tr>\n",
       "      <th>pm25</th>\n",
       "      <td>719</td>\n",
       "      <td>719</td>\n",
       "      <td>719</td>\n",
       "      <td>719</td>\n",
       "      <td>719</td>\n",
       "      <td>719</td>\n",
       "      <td>719</td>\n",
       "      <td>719</td>\n",
       "      <td>719</td>\n",
       "      <td>719</td>\n",
       "      <td>719</td>\n",
       "    </tr>\n",
       "  </tbody>\n",
       "</table>\n",
       "</div>"
      ],
      "text/plain": [
       "           location_id  sensors_id  location  datetime  lat  lon  units  \\\n",
       "parameter                                                                 \n",
       "pm25               719         719       719       719  719  719    719   \n",
       "\n",
       "           value  month  year  ingestion_datetime  \n",
       "parameter                                          \n",
       "pm25         719    719   719                 719  "
      ]
     },
     "execution_count": 20,
     "metadata": {},
     "output_type": "execute_result"
    }
   ],
   "source": [
    "data.groupby(by=\"parameter\").count()"
   ]
  },
  {
   "cell_type": "code",
   "execution_count": 21,
   "id": "7501beed",
   "metadata": {},
   "outputs": [],
   "source": [
    "con.close()"
   ]
  },
  {
   "cell_type": "code",
   "execution_count": null,
   "id": "0dee9b7d",
   "metadata": {},
   "outputs": [],
   "source": []
  }
 ],
 "metadata": {
  "kernelspec": {
   "display_name": "Python 3",
   "language": "python",
   "name": "python3"
  },
  "language_info": {
   "codemirror_mode": {
    "name": "ipython",
    "version": 3
   },
   "file_extension": ".py",
   "mimetype": "text/x-python",
   "name": "python",
   "nbconvert_exporter": "python",
   "pygments_lexer": "ipython3",
   "version": "3.12.1"
  }
 },
 "nbformat": 4,
 "nbformat_minor": 5
}
