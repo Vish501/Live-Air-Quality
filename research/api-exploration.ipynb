{
 "cells": [
  {
   "cell_type": "markdown",
   "id": "122b814e",
   "metadata": {},
   "source": [
    "# Environment Setting Up"
   ]
  },
  {
   "cell_type": "code",
   "execution_count": 1,
   "id": "d16cd0f7",
   "metadata": {},
   "outputs": [
    {
     "data": {
      "text/plain": [
       "'/workspaces/Live-Air-Quality'"
      ]
     },
     "execution_count": 1,
     "metadata": {},
     "output_type": "execute_result"
    }
   ],
   "source": [
    "import os\n",
    "from dotenv import load_dotenv\n",
    "\n",
    "# Loading environment variables from .env\n",
    "load_dotenv()\n",
    "\n",
    "# Changing directory to main directory for easy data access\n",
    "working_directory = os.getenv(\"WORKING_DIRECTORY\")\n",
    "os.chdir(working_directory)\n",
    "\n",
    "# Checking the change\n",
    "%pwd"
   ]
  },
  {
   "cell_type": "code",
   "execution_count": 2,
   "id": "401afed5",
   "metadata": {},
   "outputs": [
    {
     "name": "stdout",
     "output_type": "stream",
     "text": [
      "Git folder exists: True\n"
     ]
    }
   ],
   "source": [
    "from pathlib import Path\n",
    "\n",
    "# Checking the change\n",
    "print(\"Git folder exists:\", Path(\".git\").exists())"
   ]
  },
  {
   "cell_type": "markdown",
   "id": "5b745737",
   "metadata": {},
   "source": [
    "# 1. API Exploration"
   ]
  },
  {
   "cell_type": "code",
   "execution_count": 3,
   "id": "d55dc8c3",
   "metadata": {},
   "outputs": [],
   "source": [
    "from AQI.utils.logger import get_logger\n",
    "\n",
    "# Initializing the logger to test for exploration purposes\n",
    "logger = get_logger(\"test\")"
   ]
  },
  {
   "cell_type": "code",
   "execution_count": null,
   "id": "5272fe72",
   "metadata": {},
   "outputs": [],
   "source": [
    "import os\n",
    "from openaq import OpenAQ\n",
    "from dotenv import load_dotenv\n",
    "\n",
    "# Load environment variables from .env file\n",
    "load_dotenv()\n",
    "\n",
    "def setup_openaq(secret_env_var: str = \"OPENAQI_API_KEY\") -> OpenAQ:\n",
    "    \"\"\"\n",
    "    Load the OpenAQ API key from environment and return an authenticated OpenAQ client.\n",
    "\n",
    "    Args:\n",
    "        secret_env_var (str): Name of the environment variable holding the API key.\n",
    "\n",
    "    Returns:\n",
    "        OpenAQ: An authenticated OpenAQ client object.\n",
    "\n",
    "    Raises:\n",
    "        ValueError: If the API key is not found in the environment.\n",
    "        Exception: If client creation fails for any other reason.\n",
    "    \"\"\"\n",
    "    # Read API key from environment\n",
    "    openaq_api = os.getenv(secret_env_var)\n",
    "\n",
    "    if openaq_api is None:\n",
    "        logger.error(\"Unable to find OpenAQ API key in environment.\")\n",
    "        raise ValueError(f\"{secret_env_var} not found or empty.\")\n",
    "    \n",
    "    try:\n",
    "        client = OpenAQ(api_key=openaq_api)\n",
    "        logger.info(f\"Successfully initialized OpenAQ client.\")\n",
    "        return client\n",
    "    \n",
    "    except Exception as e:\n",
    "        logger.error(f\"Unexpected error while creating OpenAQ client: {e}\")\n",
    "        raise e"
   ]
  },
  {
   "cell_type": "code",
   "execution_count": 5,
   "id": "a6f2e09f",
   "metadata": {},
   "outputs": [
    {
     "name": "stdout",
     "output_type": "stream",
     "text": [
      "[2025-08-11 11:25:16,962: INFO: 360635886: Successfully initialized OpenAQ client.]\n"
     ]
    },
    {
     "data": {
      "text/plain": [
       "<openaq._sync.client.OpenAQ at 0x7fb714b912e0>"
      ]
     },
     "execution_count": 5,
     "metadata": {},
     "output_type": "execute_result"
    }
   ],
   "source": [
    "client = setup_openaq()\n",
    "client"
   ]
  },
  {
   "cell_type": "code",
   "execution_count": null,
   "id": "9d0aca19",
   "metadata": {},
   "outputs": [],
   "source": []
  }
 ],
 "metadata": {
  "kernelspec": {
   "display_name": "Python 3",
   "language": "python",
   "name": "python3"
  },
  "language_info": {
   "codemirror_mode": {
    "name": "ipython",
    "version": 3
   },
   "file_extension": ".py",
   "mimetype": "text/x-python",
   "name": "python",
   "nbconvert_exporter": "python",
   "pygments_lexer": "ipython3",
   "version": "3.12.1"
  }
 },
 "nbformat": 4,
 "nbformat_minor": 5
}
