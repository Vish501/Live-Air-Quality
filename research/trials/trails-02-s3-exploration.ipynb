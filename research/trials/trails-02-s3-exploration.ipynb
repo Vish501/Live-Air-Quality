{
 "cells": [
  {
   "cell_type": "markdown",
   "id": "c1d5ea63",
   "metadata": {},
   "source": [
    "# Environment Setting Up"
   ]
  },
  {
   "cell_type": "code",
   "execution_count": 1,
   "id": "e2f5f1f2",
   "metadata": {},
   "outputs": [
    {
     "data": {
      "text/plain": [
       "'/workspaces/Live-Air-Quality'"
      ]
     },
     "execution_count": 1,
     "metadata": {},
     "output_type": "execute_result"
    }
   ],
   "source": [
    "import os\n",
    "from dotenv import load_dotenv\n",
    "\n",
    "# Loading environment variables from .env\n",
    "load_dotenv()\n",
    "\n",
    "# Changing directory to main directory for easy data access\n",
    "working_directory = os.getenv(\"WORKING_DIRECTORY\")\n",
    "os.chdir(working_directory)\n",
    "\n",
    "# Checking the change\n",
    "%pwd"
   ]
  },
  {
   "cell_type": "code",
   "execution_count": 2,
   "id": "85742356",
   "metadata": {},
   "outputs": [
    {
     "name": "stdout",
     "output_type": "stream",
     "text": [
      "Git folder exists: True\n"
     ]
    }
   ],
   "source": [
    "from pathlib import Path\n",
    "\n",
    "# Checking the change\n",
    "print(\"Git folder exists:\", Path(\".git\").exists())"
   ]
  },
  {
   "cell_type": "markdown",
   "id": "f3d4f5b5",
   "metadata": {},
   "source": [
    "# 2. S3 Exploration"
   ]
  },
  {
   "cell_type": "code",
   "execution_count": 3,
   "id": "29b3d62a",
   "metadata": {},
   "outputs": [],
   "source": [
    "import duckdb as ddb\n",
    "\n",
    "ddb.sql(\"INSTALL httpfs; LOAD httpfs\")"
   ]
  },
  {
   "cell_type": "code",
   "execution_count": 4,
   "id": "c1795c97",
   "metadata": {},
   "outputs": [
    {
     "name": "stdout",
     "output_type": "stream",
     "text": [
      "[2025-08-17 10:18:29,436: INFO: common: Directory: research/sql created successfully.]\n"
     ]
    }
   ],
   "source": [
    "from AQI.utils.common import create_directories\n",
    "from pathlib import Path\n",
    "\n",
    "location = Path(\"research/sql/air_quality.db\")\n",
    "create_directories([location.parent])\n",
    "\n",
    "conn = ddb.connect(location)"
   ]
  },
  {
   "cell_type": "code",
   "execution_count": 5,
   "id": "7cb04f2b",
   "metadata": {},
   "outputs": [
    {
     "data": {
      "text/plain": [
       "<duckdb.duckdb.DuckDBPyConnection at 0x71033b24d9f0>"
      ]
     },
     "execution_count": 5,
     "metadata": {},
     "output_type": "execute_result"
    }
   ],
   "source": [
    "conn.execute(\"CREATE schema IF NOT EXISTS raw\")"
   ]
  },
  {
   "cell_type": "code",
   "execution_count": 6,
   "id": "0a8dd815",
   "metadata": {},
   "outputs": [],
   "source": [
    "conn.sql(\"\"\"\n",
    "    SET s3_access_key_id='';\n",
    "    SET s3_secret_access_key='';\n",
    "    SET s3_region='';\n",
    "\"\"\")"
   ]
  },
  {
   "cell_type": "code",
   "execution_count": 7,
   "id": "70e75280",
   "metadata": {},
   "outputs": [
    {
     "data": {
      "text/plain": [
       "<duckdb.duckdb.DuckDBPyConnection at 0x71033b24d9f0>"
      ]
     },
     "execution_count": 7,
     "metadata": {},
     "output_type": "execute_result"
    }
   ],
   "source": [
    "# ` \" ` used when there is a conflict with duckdb keyword \n",
    "\n",
    "conn.execute(\"\"\"\n",
    "    CREATE TABLE IF NOT EXISTS raw.air_quality_data (\n",
    "        location_id BIGINT,\n",
    "        sensors_id BIGINT,\n",
    "        \"location\" VARCHAR,\n",
    "        \"datetime\" TIMESTAMP,\n",
    "        lat DOUBLE,\n",
    "        lon DOUBLE,\n",
    "        \"parameter\" VARCHAR,\n",
    "        units VARCHAR,\n",
    "        \"value\" DOUBLE,\n",
    "        \"month\" VARCHAR,\n",
    "        \"year\" BIGINT,\n",
    "        ingestion_datetime TIMESTAMP\n",
    "    );\n",
    "\"\"\")"
   ]
  },
  {
   "cell_type": "code",
   "execution_count": null,
   "id": "3a64830f",
   "metadata": {},
   "outputs": [
    {
     "data": {
      "text/plain": [
       "<duckdb.duckdb.DuckDBPyConnection at 0x71033b24d9f0>"
      ]
     },
     "execution_count": 8,
     "metadata": {},
     "output_type": "execute_result"
    }
   ],
   "source": [
    "id = \"384\"\n",
    "year = \"2025\"\n",
    "month = \"01\"\n",
    "\n",
    "conn.execute(f\"\"\"\n",
    "INSERT INTO raw.air_quality_data\n",
    "SELECT \n",
    "    location_id, \n",
    "    sensors_id, \n",
    "    \"location\", \n",
    "    \"datetime\", \n",
    "    lat, \n",
    "    lon, \n",
    "    \"parameter\", \n",
    "    units, \n",
    "    \"value\",\n",
    "    \"month\", \n",
    "    \"year\",\n",
    "    current_timestamp AS ingestion_datetime\n",
    "FROM read_csv('s3://openaq-data-archive/records/csv.gz/locationid={id}/year={year}/month={month}/*.csv.gz');\n",
    "\"\"\")"
   ]
  },
  {
   "cell_type": "code",
   "execution_count": 9,
   "id": "49559041",
   "metadata": {},
   "outputs": [],
   "source": [
    "conn.close()"
   ]
  }
 ],
 "metadata": {
  "kernelspec": {
   "display_name": "Python 3",
   "language": "python",
   "name": "python3"
  },
  "language_info": {
   "codemirror_mode": {
    "name": "ipython",
    "version": 3
   },
   "file_extension": ".py",
   "mimetype": "text/x-python",
   "name": "python",
   "nbconvert_exporter": "python",
   "pygments_lexer": "ipython3",
   "version": "3.12.1"
  }
 },
 "nbformat": 4,
 "nbformat_minor": 5
}
