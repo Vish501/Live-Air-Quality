{
 "cells": [
  {
   "cell_type": "markdown",
   "id": "ff36aca8",
   "metadata": {},
   "source": [
    "# Environment Setting Up"
   ]
  },
  {
   "cell_type": "code",
   "execution_count": 1,
   "id": "7a79205a",
   "metadata": {},
   "outputs": [
    {
     "data": {
      "text/plain": [
       "'/workspaces/Live-Air-Quality'"
      ]
     },
     "execution_count": 1,
     "metadata": {},
     "output_type": "execute_result"
    }
   ],
   "source": [
    "import os\n",
    "from dotenv import load_dotenv\n",
    "\n",
    "# Loading environment variables from .env\n",
    "load_dotenv()\n",
    "\n",
    "# Changing directory to main directory for easy data access\n",
    "working_directory = os.getenv(\"WORKING_DIRECTORY\")\n",
    "os.chdir(working_directory)\n",
    "\n",
    "# Checking the change\n",
    "%pwd"
   ]
  },
  {
   "cell_type": "code",
   "execution_count": 2,
   "id": "d29e1244",
   "metadata": {},
   "outputs": [
    {
     "name": "stdout",
     "output_type": "stream",
     "text": [
      "Git folder exists: True\n"
     ]
    }
   ],
   "source": [
    "from pathlib import Path\n",
    "\n",
    "# Checking the change\n",
    "print(\"Git folder exists:\", Path(\".git\").exists())"
   ]
  },
  {
   "cell_type": "markdown",
   "id": "b3279eb1",
   "metadata": {},
   "source": [
    "# 5. Dashboard"
   ]
  },
  {
   "cell_type": "code",
   "execution_count": 3,
   "id": "b2b2e559",
   "metadata": {},
   "outputs": [
    {
     "name": "stdout",
     "output_type": "stream",
     "text": [
      "All Data: (2877, 11)\n",
      "Latest Params: (1, 7)\n",
      "Daily Stats: (126, 11)\n"
     ]
    }
   ],
   "source": [
    "import plotly.express as px\n",
    "import duckdb as ddb\n",
    "import pandas as pd\n",
    "\n",
    "from dash import Dash, dcc, html, Input, Output\n",
    "\n",
    "database_path = Path(\"research/sql/air_quality.db\")\n",
    "\n",
    "with ddb.connect(database_path, read_only=True) as conn:\n",
    "    data = conn.execute(\"SELECT * FROM presentation.air_quality_data;\").fetchdf()\n",
    "    data_lastest_values = conn.execute(\"SELECT * FROM presentation.latest_params_per_location;\").fetchdf()\n",
    "    data_daily_stats = conn.execute(\"SELECT * FROM presentation.daily_stats;\").fetchdf()\n",
    "\n",
    "print(f\"All Data: {data.shape}\")\n",
    "print(f\"Latest Params: {data_lastest_values.shape}\")\n",
    "print(f\"Daily Stats: {data_daily_stats.shape}\")"
   ]
  },
  {
   "cell_type": "code",
   "execution_count": 4,
   "id": "11c50218",
   "metadata": {},
   "outputs": [
    {
     "data": {
      "text/html": [
       "<div>\n",
       "<style scoped>\n",
       "    .dataframe tbody tr th:only-of-type {\n",
       "        vertical-align: middle;\n",
       "    }\n",
       "\n",
       "    .dataframe tbody tr th {\n",
       "        vertical-align: top;\n",
       "    }\n",
       "\n",
       "    .dataframe thead th {\n",
       "        text-align: right;\n",
       "    }\n",
       "</style>\n",
       "<table border=\"1\" class=\"dataframe\">\n",
       "  <thead>\n",
       "    <tr style=\"text-align: right;\">\n",
       "      <th></th>\n",
       "      <th>location_id</th>\n",
       "      <th>location</th>\n",
       "      <th>lat</th>\n",
       "      <th>lon</th>\n",
       "      <th>datetime</th>\n",
       "      <th>pm25</th>\n",
       "      <th>o3</th>\n",
       "    </tr>\n",
       "  </thead>\n",
       "  <tbody>\n",
       "    <tr>\n",
       "      <th>0</th>\n",
       "      <td>384</td>\n",
       "      <td>CCNY-384</td>\n",
       "      <td>40.8197</td>\n",
       "      <td>-73.9481</td>\n",
       "      <td>2025-07-01 04:00:00</td>\n",
       "      <td>10.3</td>\n",
       "      <td>0.034</td>\n",
       "    </tr>\n",
       "  </tbody>\n",
       "</table>\n",
       "</div>"
      ],
      "text/plain": [
       "   location_id  location      lat      lon            datetime  pm25     o3\n",
       "0          384  CCNY-384  40.8197 -73.9481 2025-07-01 04:00:00  10.3  0.034"
      ]
     },
     "execution_count": 4,
     "metadata": {},
     "output_type": "execute_result"
    }
   ],
   "source": [
    "data_lastest_values.head(2)"
   ]
  },
  {
   "cell_type": "code",
   "execution_count": 5,
   "id": "217a5ff9",
   "metadata": {},
   "outputs": [
    {
     "data": {
      "text/html": [
       "<div>\n",
       "<style scoped>\n",
       "    .dataframe tbody tr th:only-of-type {\n",
       "        vertical-align: middle;\n",
       "    }\n",
       "\n",
       "    .dataframe tbody tr th {\n",
       "        vertical-align: top;\n",
       "    }\n",
       "\n",
       "    .dataframe thead th {\n",
       "        text-align: right;\n",
       "    }\n",
       "</style>\n",
       "<table border=\"1\" class=\"dataframe\">\n",
       "  <thead>\n",
       "    <tr style=\"text-align: right;\">\n",
       "      <th></th>\n",
       "      <th>location_id</th>\n",
       "      <th>location</th>\n",
       "      <th>measurement_date</th>\n",
       "      <th>weekday_number</th>\n",
       "      <th>weekday</th>\n",
       "      <th>is_weekend</th>\n",
       "      <th>lat</th>\n",
       "      <th>lon</th>\n",
       "      <th>parameter</th>\n",
       "      <th>units</th>\n",
       "      <th>average_value</th>\n",
       "    </tr>\n",
       "  </thead>\n",
       "  <tbody>\n",
       "    <tr>\n",
       "      <th>0</th>\n",
       "      <td>384</td>\n",
       "      <td>CCNY-384</td>\n",
       "      <td>2025-01-04</td>\n",
       "      <td>6</td>\n",
       "      <td>Saturday</td>\n",
       "      <td>1</td>\n",
       "      <td>40.8197</td>\n",
       "      <td>-73.9481</td>\n",
       "      <td>o3</td>\n",
       "      <td>ppm</td>\n",
       "      <td>0.027042</td>\n",
       "    </tr>\n",
       "    <tr>\n",
       "      <th>1</th>\n",
       "      <td>384</td>\n",
       "      <td>CCNY-384</td>\n",
       "      <td>2025-01-05</td>\n",
       "      <td>0</td>\n",
       "      <td>Sunday</td>\n",
       "      <td>1</td>\n",
       "      <td>40.8197</td>\n",
       "      <td>-73.9481</td>\n",
       "      <td>o3</td>\n",
       "      <td>ppm</td>\n",
       "      <td>0.029417</td>\n",
       "    </tr>\n",
       "  </tbody>\n",
       "</table>\n",
       "</div>"
      ],
      "text/plain": [
       "   location_id  location measurement_date  weekday_number   weekday  \\\n",
       "0          384  CCNY-384       2025-01-04               6  Saturday   \n",
       "1          384  CCNY-384       2025-01-05               0    Sunday   \n",
       "\n",
       "   is_weekend      lat      lon parameter units  average_value  \n",
       "0           1  40.8197 -73.9481        o3   ppm       0.027042  \n",
       "1           1  40.8197 -73.9481        o3   ppm       0.029417  "
      ]
     },
     "execution_count": 5,
     "metadata": {},
     "output_type": "execute_result"
    }
   ],
   "source": [
    "data_daily_stats.head(2)"
   ]
  },
  {
   "cell_type": "code",
   "execution_count": 6,
   "id": "959acd77",
   "metadata": {},
   "outputs": [],
   "source": [
    "# Scatter plot of all the AQ locations and their latest values\n",
    "\n",
    "def location_scatter_map():\n",
    "    location_scatter = px.scatter_map(\n",
    "        data_lastest_values,\n",
    "        lat=\"lat\",\n",
    "        lon=\"lon\",\n",
    "        hover_name=\"location\",\n",
    "        hover_data={\"lat\": False, \"lon\": False, \"datetime\": True, \"pm25\": True, \"o3\": True},\n",
    "        zoom=10.0,\n",
    "    )\n",
    "\n",
    "    location_scatter.update_layout(\n",
    "        mapbox_style=\"open-street-map\",\n",
    "        height=800,\n",
    "        title=\"AQ Monitoring Locations\"\n",
    "        )\n",
    "    \n",
    "    return location_scatter"
   ]
  },
  {
   "cell_type": "code",
   "execution_count": 7,
   "id": "36db32c3",
   "metadata": {},
   "outputs": [],
   "source": [
    "def line_figure():\n",
    "    line_fig = px.line(\n",
    "        data_daily_stats[data_daily_stats[\"parameter\"] == \"pm25\"].sort_values(by=\"measurement_date\"),\n",
    "        x=\"measurement_date\",\n",
    "        y=\"average_value\",\n",
    "        title=\"Plot over time of PM25 levels.\"\n",
    "    )\n",
    "\n",
    "    return line_fig"
   ]
  },
  {
   "cell_type": "code",
   "execution_count": 8,
   "id": "615c6b36",
   "metadata": {},
   "outputs": [],
   "source": [
    "def box_figure():\n",
    "    box_fig = px.box(\n",
    "        data_daily_stats[data_daily_stats[\"parameter\"] == \"pm25\"].sort_values(by=\"weekday_number\"),\n",
    "        x=\"weekday\",\n",
    "        y=\"average_value\",\n",
    "        title=\"Distribution of PM25 levels by Weekday\"\n",
    "    )\n",
    "\n",
    "    return box_fig"
   ]
  },
  {
   "cell_type": "code",
   "execution_count": 9,
   "id": "4add5475",
   "metadata": {},
   "outputs": [
    {
     "name": "stdout",
     "output_type": "stream",
     "text": [
      "Dash app running on http://127.0.0.1:8050/\n"
     ]
    }
   ],
   "source": [
    "app = Dash(__name__)\n",
    "app.layout = html.Div([\n",
    "    dcc.Tabs([\n",
    "        dcc.Tab(label=\"Sensor Locations\", children=[dcc.Graph(id=\"Map-View\", figure=location_scatter_map())]),\n",
    "        dcc.Tab(label=\"Parameter Plots\", children=[\n",
    "            dcc.Graph(id=\"Line-Plot\", figure=line_figure()),\n",
    "            dcc.Graph(id=\"Box-Plot\", figure=box_figure())\n",
    "        ])\n",
    "    ])\n",
    "])\n",
    "\n",
    "if __name__ == \"__main__\":\n",
    "    app.run(jupyter_mode=\"external\", debug=True)"
   ]
  },
  {
   "cell_type": "code",
   "execution_count": null,
   "id": "332bfc1e",
   "metadata": {},
   "outputs": [],
   "source": []
  }
 ],
 "metadata": {
  "kernelspec": {
   "display_name": "Python 3",
   "language": "python",
   "name": "python3"
  },
  "language_info": {
   "codemirror_mode": {
    "name": "ipython",
    "version": 3
   },
   "file_extension": ".py",
   "mimetype": "text/x-python",
   "name": "python",
   "nbconvert_exporter": "python",
   "pygments_lexer": "ipython3",
   "version": "3.12.1"
  }
 },
 "nbformat": 4,
 "nbformat_minor": 5
}
