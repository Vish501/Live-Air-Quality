{
 "cells": [
  {
   "cell_type": "markdown",
   "id": "59d0244a",
   "metadata": {},
   "source": [
    "# Environment Setting Up"
   ]
  },
  {
   "cell_type": "code",
   "execution_count": 1,
   "id": "269a698b",
   "metadata": {},
   "outputs": [
    {
     "data": {
      "text/plain": [
       "'/workspaces/Live-Air-Quality'"
      ]
     },
     "execution_count": 1,
     "metadata": {},
     "output_type": "execute_result"
    }
   ],
   "source": [
    "import os\n",
    "from dotenv import load_dotenv\n",
    "\n",
    "# Loading environment variables from .env\n",
    "load_dotenv()\n",
    "\n",
    "# Changing directory to main directory for easy data access\n",
    "working_directory = os.getenv(\"WORKING_DIRECTORY\")\n",
    "os.chdir(working_directory)\n",
    "\n",
    "# Checking the change\n",
    "%pwd"
   ]
  },
  {
   "cell_type": "code",
   "execution_count": 2,
   "id": "31b328e5",
   "metadata": {},
   "outputs": [
    {
     "name": "stdout",
     "output_type": "stream",
     "text": [
      "Git folder exists: True\n"
     ]
    }
   ],
   "source": [
    "from pathlib import Path\n",
    "\n",
    "# Checking the change\n",
    "print(\"Git folder exists:\", Path(\".git\").exists())"
   ]
  },
  {
   "cell_type": "markdown",
   "id": "a12eea90",
   "metadata": {},
   "source": [
    "# 1. Database Manager"
   ]
  },
  {
   "cell_type": "code",
   "execution_count": null,
   "id": "f1d2a2f6",
   "metadata": {},
   "outputs": [],
   "source": [
    "from pathlib import Path\n",
    "from duckdb import DuckDBPyConnection\n",
    "\n",
    "import duckdb as ddb\n",
    "\n",
    "\n",
    "def database_connect(db_path: Path, s3_config: dict | None = None) -> DuckDBPyConnection:\n",
    "    \"\"\"\n",
    "    Connect to the DuckDB database at the specified path, and configures S3 access credentials for external data sources.\n",
    "\n",
    "    Args:\n",
    "        db_path (Path): Path to the DuckDB database file.\n",
    "        s3_config (dict | None): AWS S3 credentials. Defaults to None.\n",
    "\n",
    "    Returns:\n",
    "        DuckDBPyConnection: Active database connection.\n",
    "    \"\"\"\n",
    "    conn = ddb.connect(str(db_path))\n",
    "\n",
    "    if s3_config:\n",
    "        conn.sql(f\"SET s3_access_key_id='{s3_config['access_key']}';\")\n",
    "        conn.sql(f\"SET s3_secret_access_key='{s3_config['secret_key']}';\")\n",
    "        conn.sql(f\"SET s3_region='{s3_config['region']}';\")\n",
    "    return conn\n",
    "\n",
    "\n",
    "def database_close(conn: DuckDBPyConnection) -> None:\n",
    "    \"\"\"\n",
    "    Close the DuckDB database connection.\n",
    "\n",
    "    Args:\n",
    "        conn (DuckDBPyConnection): Active database connection to be closed.\n",
    "\n",
    "    Returns:\n",
    "        None\n",
    "    \"\"\"\n",
    "    if conn is not None and not conn.is_closed():\n",
    "        conn.close()\n",
    "\n",
    "\n",
    "def database_aggregate_sql_paths(dir: Path) -> list[Path]:\n",
    "    \"\"\"\n",
    "    Recursively collect all `.sql` file paths from the specified directory.\n",
    "\n",
    "    Args:\n",
    "        dir (Path): Root directory to search for SQL script files.\n",
    "\n",
    "    Returns:\n",
    "        list[Path]: Sorted list of paths to `.sql` files.\n",
    "    \"\"\"\n",
    "    sql_scripts = []\n",
    "    \n",
    "    for root, _, files in os.walk(dir):\n",
    "        for file in files:\n",
    "            if file.lower().endswith(\".sql\"):\n",
    "                sql_scripts.append(Path(root) / file)\n",
    "    \n",
    "    return sorted(sql_scripts)\n",
    "\n",
    "\n",
    "def database_load_query(query_path: Path) -> str:\n",
    "    \"\"\"\n",
    "    Load a SQL query from a file.\n",
    "\n",
    "    Args:\n",
    "        query_path (Path): Path to the .sql file.\n",
    "\n",
    "    Returns:\n",
    "        str: The SQL query as a string.\n",
    "    \"\"\"\n",
    "    with open(query_path, \"r\", encoding=\"utf-8\") as file:\n",
    "        return file.read()\n",
    "\n",
    "\n",
    "def database_execute_sql_query(conn: DuckDBPyConnection, query: str) -> None:\n",
    "    \"\"\"\n",
    "    Execute a SQL query on an active DuckDB connection.\n",
    "\n",
    "    Args:\n",
    "        conn (DuckDBPyConnection): Active DuckDB connection.\n",
    "        query (str): SQL query to execute.\n",
    "    \"\"\"\n",
    "    conn.execute(query)\n",
    "\n",
    "\n",
    "def database_initialize(db_path: Path, ddl_dir: Path) -> None:\n",
    "    \"\"\"\n",
    "    Initialize the DuckDB database schema from .sql files in the given directory.\n",
    "\n",
    "    Args:\n",
    "        db_path (Path): Path to the DuckDB database file.\n",
    "        ddl_dir (Path): Directory containing .sql files for schema creation.\n",
    "    \"\"\"\n",
    "    query_paths = database_aggregate_sql_paths(dir=ddl_dir)\n",
    "    conn = database_connect(db_path=db_path)\n",
    "\n",
    "    try:\n",
    "        for query_path in query_paths:\n",
    "            query = database_load_query(query_path=query_path)\n",
    "            database_execute_sql_query(conn=conn, query=query)\n",
    "    finally:\n",
    "        # Making sure connection is always closed\n",
    "        database_close(conn=conn)\n",
    "\n",
    "\n",
    "def database_drop(db_path: Path) -> None:\n",
    "    \"\"\"\n",
    "    Delete the DuckDB database file at the specified path.\n",
    "\n",
    "    Args:\n",
    "        db_path (Path): Path to the DuckDB database file.\n",
    "\n",
    "    Returns:\n",
    "        None\n",
    "    \"\"\"\n",
    "    db_path.unlink(missing_ok=True)"
   ]
  }
 ],
 "metadata": {
  "kernelspec": {
   "display_name": "Python 3",
   "language": "python",
   "name": "python3"
  },
  "language_info": {
   "codemirror_mode": {
    "name": "ipython",
    "version": 3
   },
   "file_extension": ".py",
   "mimetype": "text/x-python",
   "name": "python",
   "nbconvert_exporter": "python",
   "pygments_lexer": "ipython3",
   "version": "3.12.1"
  }
 },
 "nbformat": 4,
 "nbformat_minor": 5
}
