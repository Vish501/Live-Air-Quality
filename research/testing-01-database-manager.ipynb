{
 "cells": [
  {
   "cell_type": "markdown",
   "id": "59d0244a",
   "metadata": {},
   "source": [
    "# Environment Setting Up"
   ]
  },
  {
   "cell_type": "code",
   "execution_count": 1,
   "id": "269a698b",
   "metadata": {},
   "outputs": [
    {
     "data": {
      "text/plain": [
       "'/workspaces/Live-Air-Quality'"
      ]
     },
     "execution_count": 1,
     "metadata": {},
     "output_type": "execute_result"
    }
   ],
   "source": [
    "import os\n",
    "from dotenv import load_dotenv\n",
    "\n",
    "# Loading environment variables from .env\n",
    "load_dotenv()\n",
    "\n",
    "# Changing directory to main directory for easy data access\n",
    "working_directory = os.getenv(\"WORKING_DIRECTORY\")\n",
    "os.chdir(working_directory)\n",
    "\n",
    "# Checking the change\n",
    "%pwd"
   ]
  },
  {
   "cell_type": "code",
   "execution_count": 2,
   "id": "31b328e5",
   "metadata": {},
   "outputs": [
    {
     "name": "stdout",
     "output_type": "stream",
     "text": [
      "Git folder exists: True\n"
     ]
    }
   ],
   "source": [
    "from pathlib import Path\n",
    "\n",
    "# Checking the change\n",
    "print(\"Git folder exists:\", Path(\".git\").exists())"
   ]
  },
  {
   "cell_type": "markdown",
   "id": "a12eea90",
   "metadata": {},
   "source": [
    "# 1. Database Manager"
   ]
  },
  {
   "cell_type": "code",
   "execution_count": null,
   "id": "f1d2a2f6",
   "metadata": {},
   "outputs": [],
   "source": [
    "from pathlib import Path\n",
    "from duckdb import DuckDBPyConnection\n",
    "\n",
    "import duckdb as ddb\n",
    "\n",
    "def database_connect(db_path: Path) -> DuckDBPyConnection:\n",
    "    \"\"\"Connect to the database at the specified path\"\"\"\n",
    "    pass\n",
    "\n",
    "\n",
    "def database_close(conn: DuckDBPyConnection) -> None:\n",
    "    \"\"\"Close the DuckDBPyConnection connection (conn)\"\"\"\n",
    "    pass\n",
    "\n",
    "\n",
    "def database_aggregate_sql_paths(dir: Path) -> list[Path]:\n",
    "    \"\"\"~PLACEHOLDER~\"\"\"\n",
    "    pass\n",
    "\n",
    "\n",
    "def database_read_query(path: Path) -> str:\n",
    "    \"\"\"~PLACEHOLDER~\"\"\"\n",
    "    pass\n",
    "\n",
    "\n",
    "def database_run_query(conn: DuckDBPyConnection, query: str) -> None:\n",
    "    \"\"\"~PLACEHOLDER~\"\"\"\n",
    "    pass\n",
    "\n",
    "\n",
    "def database_setup(db_path: Path, ddl_dir: Path) -> None:\n",
    "    \"\"\"Construct the DuckDB database\"\"\"\n",
    "    pass\n",
    "\n",
    "\n",
    "def database_demolish(conn: DuckDBPyConnection) -> None:\n",
    "    \"\"\"Drop the entire DuckDB database\"\"\"\n",
    "    pass"
   ]
  }
 ],
 "metadata": {
  "kernelspec": {
   "display_name": "Python 3",
   "language": "python",
   "name": "python3"
  },
  "language_info": {
   "codemirror_mode": {
    "name": "ipython",
    "version": 3
   },
   "file_extension": ".py",
   "mimetype": "text/x-python",
   "name": "python",
   "nbconvert_exporter": "python",
   "pygments_lexer": "ipython3",
   "version": "3.12.1"
  }
 },
 "nbformat": 4,
 "nbformat_minor": 5
}
