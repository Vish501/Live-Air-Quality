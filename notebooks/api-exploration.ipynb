{
 "cells": [
  {
   "cell_type": "markdown",
   "id": "122b814e",
   "metadata": {},
   "source": [
    "# Environment Setting Up"
   ]
  },
  {
   "cell_type": "code",
   "execution_count": 1,
   "id": "d16cd0f7",
   "metadata": {},
   "outputs": [
    {
     "data": {
      "text/plain": [
       "'/workspaces/Live-Air-Quality'"
      ]
     },
     "execution_count": 1,
     "metadata": {},
     "output_type": "execute_result"
    }
   ],
   "source": [
    "import os\n",
    "from dotenv import load_dotenv\n",
    "\n",
    "# Loading environment variables from .env\n",
    "load_dotenv()\n",
    "\n",
    "# Changing directory to main directory for easy data access\n",
    "working_directory = os.getenv(\"WORKING_DIRECTORY\")\n",
    "os.chdir(working_directory)\n",
    "\n",
    "# Checking the change\n",
    "%pwd"
   ]
  },
  {
   "cell_type": "code",
   "execution_count": 2,
   "id": "401afed5",
   "metadata": {},
   "outputs": [
    {
     "name": "stdout",
     "output_type": "stream",
     "text": [
      "Git folder exists: True\n"
     ]
    }
   ],
   "source": [
    "from pathlib import Path\n",
    "\n",
    "# Checking the change\n",
    "print(\"Git folder exists:\", Path(\".git\").exists())"
   ]
  },
  {
   "cell_type": "markdown",
   "id": "5b745737",
   "metadata": {},
   "source": [
    "# 1. API Exploration"
   ]
  },
  {
   "cell_type": "code",
   "execution_count": 3,
   "id": "d55dc8c3",
   "metadata": {},
   "outputs": [],
   "source": [
    "from AQI.utils.logger import get_logger\n",
    "\n",
    "# Initializing the logger to test for exploration purposes\n",
    "logger = get_logger(\"test\")"
   ]
  },
  {
   "cell_type": "code",
   "execution_count": null,
   "id": "5272fe72",
   "metadata": {},
   "outputs": [],
   "source": [
    "import os\n",
    "from openaq import OpenAQ\n",
    "\n",
    "def setup_openaq(secret_env_var: str = \"OPENAQI_API_KEY\") -> None:\n",
    "    \"\"\"\n",
    "    Load the openaq api key from the environment\n",
    "    \"\"\"\n",
    "    # Read from environment variable (injected from Codespaces secret)\n",
    "    openaq_ap = os.getenv(secret_env_var)\n",
    "\n",
    "    if openaq_ap is None:\n",
    "        logger.error(\"Unable to find OpenAQ API key.\")\n",
    "        raise ValueError(f\"{secret_env_var} secret not found.\")\n",
    "    \n",
    "    try:\n",
    "        client = OpenAQ(api_key=openaq_ap)\n",
    "        logger.info(f\"Successfully loaded OpenAQ Client.\")\n",
    "        return client\n",
    "    \n",
    "    except Exception as e:\n",
    "        logger.error(f\"Unexcepted error while loading OpenAQ client.\")\n",
    "        raise e"
   ]
  },
  {
   "cell_type": "code",
   "execution_count": null,
   "id": "a6f2e09f",
   "metadata": {},
   "outputs": [],
   "source": []
  }
 ],
 "metadata": {
  "kernelspec": {
   "display_name": "Python 3",
   "language": "python",
   "name": "python3"
  },
  "language_info": {
   "codemirror_mode": {
    "name": "ipython",
    "version": 3
   },
   "file_extension": ".py",
   "mimetype": "text/x-python",
   "name": "python",
   "nbconvert_exporter": "python",
   "pygments_lexer": "ipython3",
   "version": "3.12.1"
  }
 },
 "nbformat": 4,
 "nbformat_minor": 5
}
